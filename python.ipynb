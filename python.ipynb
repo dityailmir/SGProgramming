{
  "nbformat": 4,
  "nbformat_minor": 0,
  "metadata": {
    "colab": {
      "name": "python.ipynb",
      "provenance": [],
      "collapsed_sections": []
    },
    "kernelspec": {
      "name": "python3",
      "display_name": "Python 3"
    }
  },
  "cells": [
    {
      "cell_type": "code",
      "metadata": {
        "colab": {
          "base_uri": "https://localhost:8080/"
        },
        "id": "up7HXuelqyyx",
        "outputId": "c9e32158-31f9-48ac-b89d-1cb771d9c262"
      },
      "source": [
        "#Boolean\r\n",
        "bool = False\r\n",
        "print(bool)\r\n",
        "print(type(bool))"
      ],
      "execution_count": null,
      "outputs": [
        {
          "output_type": "stream",
          "text": [
            "False\n",
            "<class 'bool'>\n"
          ],
          "name": "stdout"
        }
      ]
    },
    {
      "cell_type": "code",
      "metadata": {
        "colab": {
          "base_uri": "https://localhost:8080/"
        },
        "id": "SR35c1Auq0ih",
        "outputId": "4614d026-096e-49a8-bd9e-127d4dc32d3f"
      },
      "source": [
        "#string\r\n",
        "test = \"Pengenalan Python\"\r\n",
        "print(test)\r\n",
        "print(type(test))\r\n"
      ],
      "execution_count": null,
      "outputs": [
        {
          "output_type": "stream",
          "text": [
            "Pengenalan Python\n",
            "<class 'str'>\n"
          ],
          "name": "stdout"
        }
      ]
    },
    {
      "cell_type": "code",
      "metadata": {
        "colab": {
          "base_uri": "https://localhost:8080/"
        },
        "id": "iSXmhDG4sKLQ",
        "outputId": "a1dd8b08-774a-4230-ae85-abcae27ce1fb"
      },
      "source": [
        "#float\r\n",
        "fl = 3.14\r\n",
        "print(fl)\r\n",
        "print(type(fl))"
      ],
      "execution_count": null,
      "outputs": [
        {
          "output_type": "stream",
          "text": [
            "3.14\n",
            "<class 'float'>\n"
          ],
          "name": "stdout"
        }
      ]
    },
    {
      "cell_type": "code",
      "metadata": {
        "colab": {
          "base_uri": "https://localhost:8080/"
        },
        "id": "Z569duTXrkDu",
        "outputId": "f15c5423-876e-48e6-90d1-9640208ea34f"
      },
      "source": [
        "integer\r\n",
        "inte = -1\r\n",
        "print(inte)\r\n",
        "print(type(inte))\r\n"
      ],
      "execution_count": null,
      "outputs": [
        {
          "output_type": "stream",
          "text": [
            "-1\n",
            "<class 'int'>\n"
          ],
          "name": "stdout"
        }
      ]
    },
    {
      "cell_type": "code",
      "metadata": {
        "colab": {
          "base_uri": "https://localhost:8080/",
          "height": 128
        },
        "id": "uvgEhlXZsbj8",
        "outputId": "f07fedf9-e21b-4aa6-e3a9-566d3e727721"
      },
      "source": [
        "#list\r\n",
        "#data untauan untuk menyimpan tipe data\r\n",
        "list1 ="
      ],
      "execution_count": null,
      "outputs": [
        {
          "output_type": "error",
          "ename": "SyntaxError",
          "evalue": "ignored",
          "traceback": [
            "\u001b[0;36m  File \u001b[0;32m\"<ipython-input-21-2e9fd75d912d>\"\u001b[0;36m, line \u001b[0;32m3\u001b[0m\n\u001b[0;31m    list1 =\u001b[0m\n\u001b[0m           ^\u001b[0m\n\u001b[0;31mSyntaxError\u001b[0m\u001b[0;31m:\u001b[0m invalid syntax\n"
          ]
        }
      ]
    },
    {
      "cell_type": "code",
      "metadata": {
        "colab": {
          "base_uri": "https://localhost:8080/"
        },
        "id": "HHSHJ07ktel7",
        "outputId": "f4254343-6de5-4dae-b447-4605b67f55df"
      },
      "source": [
        "#dictionary\r\n",
        "person = {\r\n",
        "    \"nama\":\"ditya\",\r\n",
        "    \"kelas\":\"IT-43-03\",\r\n",
        "    \"nim\":\"1303191119\",\r\n",
        "    \"nilai\" : [\r\n",
        "               [\"mtk\",90],[\"bindo\",70]\r\n",
        "    ]\r\n",
        "}\r\n",
        "print(person)\r\n",
        "print(type(person))\r\n",
        "print(person['nilai'][0][1])"
      ],
      "execution_count": null,
      "outputs": [
        {
          "output_type": "stream",
          "text": [
            "{'nama': 'ditya', 'kelas': 'IT-43-03', 'nim': '1303191119', 'nilai': [['mtk', 90], ['bindo', 70]]}\n",
            "<class 'dict'>\n",
            "90\n"
          ],
          "name": "stdout"
        }
      ]
    },
    {
      "cell_type": "code",
      "metadata": {
        "colab": {
          "base_uri": "https://localhost:8080/"
        },
        "id": "kmd9q72zuz1k",
        "outputId": "cd464f6d-1aee-49f7-80be-a5bf3719b8e9"
      },
      "source": [
        "#if condition\r\n",
        "num = 5\r\n",
        "if (num > 0):\r\n",
        "  print(\"positif\")\r\n",
        "\r\n",
        "#short hand if\r\n",
        "if (num > 0): print(\"bil bos\")"
      ],
      "execution_count": null,
      "outputs": [
        {
          "output_type": "stream",
          "text": [
            "positif\n",
            "bil bos\n"
          ],
          "name": "stdout"
        }
      ]
    },
    {
      "cell_type": "code",
      "metadata": {
        "colab": {
          "base_uri": "https://localhost:8080/"
        },
        "id": "qNpXNMMivNQx",
        "outputId": "549a2ab9-863c-4a65-d48a-e7d480eabb85"
      },
      "source": [
        "#if else condition\r\n",
        "num = 10\r\n",
        "\r\n",
        "if (num > 0):\r\n",
        "  print(\"positif\")\r\n",
        "else:\r\n",
        "  print(\"negatif\")\r\n",
        "\r\n",
        "#short hand if\r\n",
        "print(\"positif\") if (num > 0) else print(\"negatif\")"
      ],
      "execution_count": null,
      "outputs": [
        {
          "output_type": "stream",
          "text": [
            "positif\n",
            "positif\n"
          ],
          "name": "stdout"
        }
      ]
    },
    {
      "cell_type": "code",
      "metadata": {
        "colab": {
          "base_uri": "https://localhost:8080/"
        },
        "id": "EEux-IHvvsvU",
        "outputId": "63f3682c-0c9b-45da-f748-bace3a139e39"
      },
      "source": [
        "#elif condition\r\n",
        "bil1 = 2\r\n",
        "bil2 = 10\r\n",
        "\r\n",
        "if (bil1 > bil2):\r\n",
        "  print(\"bilangan 1 lebih besar\")\r\n",
        "elif (bil1 < bil2):\r\n",
        "   print(\"bilangan 2 lebih besar\")\r\n",
        "else:\r\n",
        "  print(\"sama besar\")"
      ],
      "execution_count": null,
      "outputs": [
        {
          "output_type": "stream",
          "text": [
            "bilangan 2 lebih besar\n"
          ],
          "name": "stdout"
        }
      ]
    },
    {
      "cell_type": "code",
      "metadata": {
        "colab": {
          "base_uri": "https://localhost:8080/"
        },
        "id": "wgvFejoWwi8o",
        "outputId": "eb7912f1-0246-4ade-955b-899cf8685e5b"
      },
      "source": [
        "test = True\r\n",
        "if (test):\r\n",
        "  print(\"dia true\")\r\n",
        "else:\r\n",
        "  print(\"false\")"
      ],
      "execution_count": null,
      "outputs": [
        {
          "output_type": "stream",
          "text": [
            "dia true\n"
          ],
          "name": "stdout"
        }
      ]
    },
    {
      "cell_type": "code",
      "metadata": {
        "id": "z-pS5pc59mDa"
      },
      "source": [
        ""
      ],
      "execution_count": null,
      "outputs": []
    }
  ]
}